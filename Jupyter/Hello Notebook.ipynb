{
 "cells": [
  {
   "cell_type": "code",
   "execution_count": 1,
   "metadata": {},
   "outputs": [
    {
     "name": "stdout",
     "output_type": "stream",
     "text": [
      "Hello Word!\n"
     ]
    }
   ],
   "source": [
    "print (\"Hello Word!\")"
   ]
  },
  {
   "cell_type": "code",
   "execution_count": 2,
   "metadata": {},
   "outputs": [
    {
     "name": "stdout",
     "output_type": "stream",
     "text": [
      "Hello Juliana!\n"
     ]
    }
   ],
   "source": [
    "print (\"Hello Juliana!\")"
   ]
  },
  {
   "cell_type": "code",
   "execution_count": 3,
   "metadata": {},
   "outputs": [
    {
     "name": "stdout",
     "output_type": "stream",
     "text": [
      "Olá Mundo!\n",
      "Olá Mundo!\n",
      "Olá Mundo!\n",
      "Olá Mundo!\n",
      "Olá Mundo!\n",
      "Olá Mundo!\n",
      "Olá Mundo!\n",
      "Olá Mundo!\n",
      "Olá Mundo!\n",
      "Olá Mundo!\n"
     ]
    }
   ],
   "source": [
    "for i in range(10):\n",
    "    print(\"Olá Mundo!\")"
   ]
  },
  {
   "cell_type": "code",
   "execution_count": 4,
   "metadata": {},
   "outputs": [
    {
     "name": "stdout",
     "output_type": "stream",
     "text": [
      "Hello Juliana!\n",
      "Hello Juliana!\n",
      "Hello Juliana!\n",
      "Hello Juliana!\n",
      "Hello Juliana!\n",
      "Hello Juliana!\n",
      "Hello Juliana!\n",
      "Hello Juliana!\n",
      "Hello Juliana!\n",
      "Hello Juliana!\n"
     ]
    }
   ],
   "source": [
    "for i in range(10):\n",
    "    print(\"Hello Juliana!\")"
   ]
  },
  {
   "cell_type": "code",
   "execution_count": null,
   "metadata": {},
   "outputs": [],
   "source": []
  }
 ],
 "metadata": {
  "kernelspec": {
   "display_name": "Python 3",
   "language": "python",
   "name": "python3"
  },
  "language_info": {
   "codemirror_mode": {
    "name": "ipython",
    "version": 3
   },
   "file_extension": ".py",
   "mimetype": "text/x-python",
   "name": "python",
   "nbconvert_exporter": "python",
   "pygments_lexer": "ipython3",
   "version": "3.7.4"
  }
 },
 "nbformat": 4,
 "nbformat_minor": 2
}
